{
 "cells": [
  {
   "cell_type": "code",
   "execution_count": null,
   "id": "6dfd4239-5f65-4170-8eda-a4eb8a919a89",
   "metadata": {},
   "outputs": [
    {
     "ename": "",
     "evalue": "",
     "output_type": "error",
     "traceback": [
      "\u001b[1;31mRunning cells with 'Python 3.14.0' requires the ipykernel package.\n",
      "\u001b[1;31mRun the following command to install 'ipykernel' into the Python environment. \n",
      "\u001b[1;31mCommand: '/usr/local/bin/python3 -m pip install ipykernel -U --user --force-reinstall'"
     ]
    }
   ],
   "source": [
    "from content import recommend_knn_cosine\n",
    "from collaborative import predict_rating\n",
    "\n",
    "def hybrid_recommendations(user_id, movie_id, alpha=0.5, top_n=10):\n",
    "    # Get content-based similar movies\n",
    "    content_scores = get_similar_movies(movie_id, top_n=top_n*2)\n",
    "    \n",
    "    hybrid_scores = []\n",
    "    for m_id, content_score in content_scores:\n",
    "        collab_score = predict_rating(user_id, m_id)\n",
    "        \n",
    "        # Normalize collaborative score assuming ratings are 0-5\n",
    "        normalized_collab = collab_score / 5.0\n",
    "        \n",
    "        # Combine scores with weight alpha\n",
    "        combined_score = alpha * content_score + (1 - alpha) * normalized_collab\n",
    "        hybrid_scores.append((m_id, combined_score))\n",
    "    \n",
    "    # Sort by combined score descending\n",
    "    hybrid_scores.sort(key=lambda x: x[1], reverse=True)\n",
    "    \n",
    "    return hybrid_scores[:top_n]\n"
   ]
  },
  {
   "cell_type": "code",
   "execution_count": null,
   "id": "6e54470d-b213-4a3c-882b-c512ea3f24e3",
   "metadata": {},
   "outputs": [],
   "source": []
  }
 ],
 "metadata": {
  "kernelspec": {
   "display_name": "Python 3",
   "language": "python",
   "name": "python3"
  },
  "language_info": {
   "codemirror_mode": {
    "name": "ipython",
    "version": 3
   },
   "file_extension": ".py",
   "mimetype": "text/x-python",
   "name": "python",
   "nbconvert_exporter": "python",
   "pygments_lexer": "ipython3",
   "version": "3.14.0"
  }
 },
 "nbformat": 4,
 "nbformat_minor": 5
}
