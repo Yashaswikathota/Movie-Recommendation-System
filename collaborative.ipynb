{
 "cells": [
  {
   "cell_type": "code",
   "execution_count": 1,
   "id": "152ba035-2655-4592-afdd-4e0d4acd052c",
   "metadata": {},
   "outputs": [
    {
     "name": "stdout",
     "output_type": "stream",
     "text": [
      "Requirement already satisfied: scikit-surprise in /opt/anaconda3/lib/python3.12/site-packages (1.1.4)\n",
      "Requirement already satisfied: joblib>=1.2.0 in /opt/anaconda3/lib/python3.12/site-packages (from scikit-surprise) (1.4.2)\n",
      "Requirement already satisfied: numpy>=1.19.5 in /opt/anaconda3/lib/python3.12/site-packages (from scikit-surprise) (1.26.4)\n",
      "Requirement already satisfied: scipy>=1.6.0 in /opt/anaconda3/lib/python3.12/site-packages (from scikit-surprise) (1.15.2)\n",
      "Note: you may need to restart the kernel to use updated packages.\n"
     ]
    }
   ],
   "source": [
    "pip install scikit-surprise"
   ]
  },
  {
   "cell_type": "code",
   "execution_count": 3,
   "id": "72787ead-2361-40f1-b4fe-811057a1b7f5",
   "metadata": {},
   "outputs": [],
   "source": [
    "import pandas as pd\n",
    "\n",
    "# Load datasets\n",
    "links = pd.read_csv('links.csv')              # contains movieId, imdbId, tmdbId\n",
    "ratings = pd.read_csv('ratings.csv')          # contains userId, movieId, rating, timestamp\n",
    "movies_tmdb = pd.read_csv('movies.csv')  # or your 'movies.csv' file from TMDB\n",
    "\n",
    "# Important: ensure the 'id' column in TMDB is of integer type to match 'tmdbId'\n",
    "movies_tmdb['id'] = pd.to_numeric(movies_tmdb['id'], errors='coerce')\n",
    "\n",
    "# Drop rows with missing tmdbId or id to ensure clean join\n",
    "links = links.dropna(subset=['tmdbId'])\n",
    "links['tmdbId'] = links['tmdbId'].astype(int)\n",
    "movies_tmdb = movies_tmdb.dropna(subset=['id'])\n",
    "movies_tmdb['id'] = movies_tmdb['id'].astype(int)\n",
    "\n",
    "# Merge datasets: ratings → links → TMDB movies\n",
    "merged = ratings.merge(links, on='movieId').merge(movies_tmdb, left_on='tmdbId', right_on='id')\n"
   ]
  },
  {
   "cell_type": "code",
   "execution_count": 5,
   "id": "52fe36ec-1af3-4a93-a438-a12988dc57d3",
   "metadata": {},
   "outputs": [],
   "source": [
    "from surprise import Dataset, Reader\n",
    "from surprise.model_selection import train_test_split\n",
    "from surprise import SVD, accuracy\n",
    "\n",
    "# Prepare data\n",
    "from surprise import Dataset, Reader\n",
    "\n",
    "# Use only the necessary columns: userId, tmdbId, rating\n",
    "df_cf = merged[['userId', 'tmdbId', 'rating']]\n",
    "\n",
    "# Surprise expects a specific rating scale\n",
    "reader = Reader(rating_scale=(0.5, 5.0))  # adjust if needed\n",
    "\n",
    "# Load into Surprise format\n",
    "data = Dataset.load_from_df(df_cf[['userId', 'tmdbId', 'rating']], reader)"
   ]
  },
  {
   "cell_type": "code",
   "execution_count": 7,
   "id": "1ae2322d-f40c-482a-94f4-09937a622499",
   "metadata": {},
   "outputs": [],
   "source": [
    "from surprise import SVD\n",
    "from surprise import Dataset\n",
    "from surprise.model_selection import train_test_split\n",
    "\n",
    "# Assuming you already have your Surprise dataset loaded as `data`\n",
    "# If not, load your dataset accordingly\n",
    "\n",
    "# Initialize the SVD model with best parameters\n",
    "best_svd_model = SVD(n_factors=50, lr_all=0.005, reg_all=0.1)\n",
    "\n",
    "# Train the model on the full training set\n",
    "trainset = data.build_full_trainset()\n",
    "best_svd_model.fit(trainset)\n",
    "\n",
    "def predict_rating(user_id, movie_id):\n",
    "    \"\"\"\n",
    "    Predict the rating that user_id would give to movie_id\n",
    "    using the trained SVD model.\n",
    "    \n",
    "    Parameters:\n",
    "    - user_id: str or int, user identifier\n",
    "    - movie_id: str or int, movie identifier\n",
    "    \n",
    "    Returns:\n",
    "    - estimated rating (float)\n",
    "    \"\"\"\n",
    "    prediction = best_svd_model.predict(str(user_id), str(movie_id))\n",
    "    return prediction.est\n"
   ]
  },
  {
   "cell_type": "code",
   "execution_count": 15,
   "id": "ddb2ebd7-693f-4a8b-9304-5eace5b4f79f",
   "metadata": {},
   "outputs": [
    {
     "name": "stdout",
     "output_type": "stream",
     "text": [
      "3.58\n"
     ]
    }
   ],
   "source": [
    "print(f\"{predict_rating(6, 100):.2f}\")"
   ]
  },
  {
   "cell_type": "code",
   "execution_count": null,
   "id": "5a72b6e5-4bbb-4d18-a01c-d6a18b4b097c",
   "metadata": {},
   "outputs": [],
   "source": []
  }
 ],
 "metadata": {
  "kernelspec": {
   "display_name": "Python 3 (ipykernel)",
   "language": "python",
   "name": "python3"
  },
  "language_info": {
   "codemirror_mode": {
    "name": "ipython",
    "version": 3
   },
   "file_extension": ".py",
   "mimetype": "text/x-python",
   "name": "python",
   "nbconvert_exporter": "python",
   "pygments_lexer": "ipython3",
   "version": "3.12.4"
  }
 },
 "nbformat": 4,
 "nbformat_minor": 5
}
